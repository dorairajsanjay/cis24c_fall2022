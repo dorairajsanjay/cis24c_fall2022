{
 "cells": [
  {
   "cell_type": "markdown",
   "metadata": {},
   "source": [
    "# CIS024C -  Fall 2022\n",
    "\n",
    "## Homework 6\n",
    "\n",
    "Homework 6 covers exercises that involve working with functions\n",
    "\n",
    "The below sites have some interesting and useful information on working with files\n",
    "\n",
    "https://www.learnpython.org/en/Functions\n",
    "https://www.tutorialspoint.com/python/python_functions.htm\n",
    "\n",
    "You will need to download this notebook and use this as a starting point for your homework. You will just need to fill in the content of each code-block (cell) and execute. "
   ]
  },
  {
   "cell_type": "markdown",
   "metadata": {},
   "source": [
    "### Helpful Jupyter Commands\n",
    "\n",
    "Below are some useful commands to know when using Jupyter\n",
    "\n",
    "1. You can add a new cell by clicking on the \"+\" icon on top.\n",
    "2. You can delete a cell by selecting that cell and clicking on the \"scissors\" icon on top.\n",
    "3. You can execute a cell by either pressing shift+enter or selecting the \"play\" button on top.\n",
    "4. You can create a new file in Jupyter via the File menu->New Notebook option. Make sure to select Python 2 when creating your notebook.\n",
    "5. Also, for your code blocks make sure that Code is selected instead of another option like Markdown.\n",
    "6. Use the Enter key to go to the next line in a cell to enter the next statement.\n",
    "7. You can clear results by clicking on the Cell menu item and selecting Current Output->Clear or All Output->Clear depending on whether you are trying to just clear the output for one cell or for all cells.\n",
    "8. In case your program has crashed for some reason (infinite loop, for example), you can restart your Python session by select Kernel in the menu and selecting Restart.\n"
   ]
  },
  {
   "cell_type": "markdown",
   "metadata": {},
   "source": [
    "#### Check Python Version"
   ]
  },
  {
   "cell_type": "code",
   "execution_count": 1,
   "metadata": {},
   "outputs": [
    {
     "name": "stdout",
     "output_type": "stream",
     "text": [
      "Python 3.8.5\r\n"
     ]
    }
   ],
   "source": [
    "!python --version"
   ]
  },
  {
   "cell_type": "markdown",
   "metadata": {},
   "source": [
    "#### Exercise 1 - Testing your knowledge of functions **\n",
    "\n",
    "Answer the below questions\n",
    "\n",
    "1. What is a function in Python?\n",
    "2. What are the advantages of using functions?"
   ]
  },
  {
   "cell_type": "markdown",
   "metadata": {},
   "source": [
    "<< Double click this cell and enter your result >>"
   ]
  },
  {
   "cell_type": "markdown",
   "metadata": {},
   "source": [
    "#### Exercise 2 -  Max of three numbers\n",
    "\n",
    "1. Write a Python function to find the maximum of three numbers in a list.\n",
    "2. Write a Python function to find the minimum of three numbers in a list.\n",
    "3. Write a Python function to return the last number in a list.\n",
    "4. Write a Python function to return the first number in a list of numbers\n",
    "\n",
    "The function must accept one list parameter. **You cannot pass in 3 separate numbers to the function**\n",
    "\n",
    "Make sure you invoke this function in your main program and display the result\n",
    "\n",
    "**Note that you must write your own function and not use any of the prebuilt functions like ``max`` or ``min`` **"
   ]
  },
  {
   "cell_type": "code",
   "execution_count": 2,
   "metadata": {},
   "outputs": [],
   "source": [
    "### YOUR CODE GOES \n",
    "\n",
    "\n",
    "### END CODE"
   ]
  },
  {
   "cell_type": "markdown",
   "metadata": {},
   "source": [
    "#### Exercise 3 - Finding the sum of numbers in a list\n",
    "\n",
    "Write a Python function to sum all the numbers in a list\n",
    "\n",
    "Make sure you invoke this function in your main program and display the result\n",
    "\n",
    "Use a while loop to continue asking the user till the user decides to end.\n",
    "\n",
    "**Example**\n",
    "```\n",
    "Enter a list of numbers: 1,2,3\n",
    "The product is 6\n",
    "\n",
    "Do you want to continue(y/n): y\n",
    "\n",
    "Enter a list of numbers: 2,3\n",
    "The product is 5\n",
    "\n",
    "Do you want to continue(y/n): n\n",
    "Program ended\n",
    "```"
   ]
  },
  {
   "cell_type": "code",
   "execution_count": 3,
   "metadata": {},
   "outputs": [],
   "source": [
    "### YOUR CODE GOES BELOW\n",
    "\n",
    "\n",
    "### END CODE"
   ]
  },
  {
   "cell_type": "markdown",
   "metadata": {},
   "source": [
    "#### Exercise 4 - Finding the product of numbers in a list\n",
    "\n",
    "Ask the user to enter a list of numbers. Write a Python function to multiply all the numbers in a list\n",
    "\n",
    "Make sure you invoke this function in your main program and display the result\n",
    "\n",
    "Use a while loop to continue asking the user till the user decides to end.\n",
    "\n",
    "**Example**\n",
    "```\n",
    "Enter a list of numbers: 1,2,3\n",
    "The product is 6\n",
    "\n",
    "Do you want to continue(y/n): y\n",
    "\n",
    "Enter a list of numbers: 2,3\n",
    "The product is 6\n",
    "\n",
    "Do you want to continue(y/n): n\n",
    "Program ended\n",
    "```"
   ]
  },
  {
   "cell_type": "code",
   "execution_count": 4,
   "metadata": {},
   "outputs": [],
   "source": [
    "### YOUR CODE GOES BELOW\n",
    "\n",
    "\n",
    "### END CODE"
   ]
  },
  {
   "cell_type": "markdown",
   "metadata": {},
   "source": [
    "#### Exercise 5 - Check for Palindrome\n",
    "\n",
    "Write a Python function to check if a given word is a palindrome\n",
    "\n",
    "* Use the input function to ask the user to enter a word\n",
    "* Validate whether the word is a palendrome and display the status of the validation\n",
    "\n",
    "Note that a palindrome is a word that is spelt the same way forwards and backards, example ** racecar **\n",
    "\n",
    "Make sure you invoke this function in your main program and display the result\n",
    "\n",
    "Use a while loop to continue asking the user till the user decides to end.\n",
    "\n",
    "**Example**\n",
    "```\n",
    "Enter a word: racecar\n",
    "The word is a palindrome\n",
    "\n",
    "Do you want to continue(y/n): y\n",
    "\n",
    "Enter a word: hello\n",
    "The word is not a palindrome\n",
    "\n",
    "Do you want to continue(y/n): n\n",
    "Program ended\n",
    "```"
   ]
  },
  {
   "cell_type": "code",
   "execution_count": 6,
   "metadata": {},
   "outputs": [],
   "source": [
    "### YOUR CODE GOES BELOW\n",
    "\n",
    "\n",
    "### END CODE"
   ]
  },
  {
   "cell_type": "markdown",
   "metadata": {},
   "source": [
    "#### Exercise 6 - Finding the factorial of a number without recursion\n",
    "\n",
    "Write a Python function to calculate the factorial of a number (a non-negative integer). The function accepts the number as an argument.\n",
    "\n",
    "Use a while loop to continue asking the user till the user decides to end.\n",
    "\n",
    "**Example**\n",
    "```\n",
    "Enter a number: 6\n",
    "Factorial of 6 is 720\n",
    "\n",
    "Do you want to continue(y/n): y\n",
    "\n",
    "Enter a number: 4\n",
    "Factorial of 4 is 24\n",
    "\n",
    "Do you want to continue(y/n): n\n",
    "Program ended\n",
    "```"
   ]
  },
  {
   "cell_type": "code",
   "execution_count": null,
   "metadata": {},
   "outputs": [],
   "source": [
    "### YOUR CODE GOES BELOW\n",
    "\n",
    "\n",
    "### END CODE"
   ]
  },
  {
   "cell_type": "markdown",
   "metadata": {},
   "source": [
    "#### Exercise 7 - Finding the factorial of a number using recursion\n",
    "\n",
    "Write a Python function to calculate the factorial of a number (a non-negative integer). The function accepts the number as an argument.\n",
    "\n",
    "Use a while loop to continue asking the user till the user decides to end.\n",
    "\n",
    "**Example**\n",
    "```\n",
    "Enter a number: 6\n",
    "Factorial of 6 is 720\n",
    "\n",
    "Do you want to continue(y/n): y\n",
    "\n",
    "Enter a number: 4\n",
    "Factorial of 4 is 24\n",
    "\n",
    "Do you want to continue(y/n): n\n",
    "Program ended\n",
    "```"
   ]
  },
  {
   "cell_type": "code",
   "execution_count": null,
   "metadata": {},
   "outputs": [],
   "source": [
    "### YOUR CODE GOES BELOW\n",
    "\n",
    "\n",
    "### END CODE"
   ]
  },
  {
   "cell_type": "markdown",
   "metadata": {},
   "source": [
    "#### Exercise 8 - Check if number falls in a given range\n",
    "\n",
    "Write a Python function to check whether a number falls in a given range. The function accepts 3 parameters, the lower limit of the range, the upper limit of the range, and the number.\n",
    "\n",
    "Use a while loop to continue asking the user till the user decides to end.\n",
    "\n",
    "The function parameters should be as follows\n",
    "```\n",
    "def checkNumberInRange(lowerLimit, upperLimit, number):\n",
    "```\n",
    "\n",
    "\n",
    "**Example**\n",
    "```\n",
    "Enter the lower limit: 2\n",
    "Enter the upper limit: 200\n",
    "Enter the number: 100\n",
    "The number falls within the range\n",
    "\n",
    "Do you want to continue(y/n): y\n",
    "\n",
    "Enter the lower limit: 2\n",
    "Enter the upper limit: 200\n",
    "Enter the number: 1000\n",
    "The number falls outside the range\n",
    "\n",
    "Do you want to continue(y/n): n\n",
    "Program ended\n",
    "```\n",
    "\n"
   ]
  },
  {
   "cell_type": "code",
   "execution_count": null,
   "metadata": {},
   "outputs": [],
   "source": [
    "### YOUR CODE GOES BELOW\n",
    "\n",
    "\n",
    "### END CODE"
   ]
  },
  {
   "cell_type": "markdown",
   "metadata": {},
   "source": [
    "#### Exercise 9 - Assign a different name to a function\n",
    "\n",
    "1. Create a function **findSum** using the **sum** function to find the sum of 3 numbers\n",
    "2. Create a variable **myFindSum** and assign the **findSum** function to **myFindSum**\n",
    "3. Invoke the **myFindSum** function with the numbers 6,7,2 and display the result\n"
   ]
  },
  {
   "cell_type": "code",
   "execution_count": null,
   "metadata": {},
   "outputs": [],
   "source": [
    "### YOUR CODE GOES BELOW\n",
    "\n",
    "\n",
    "### END CODE"
   ]
  },
  {
   "cell_type": "markdown",
   "metadata": {},
   "source": [
    "#### Exercise 10 - Using default arguments\n",
    "\n",
    "Write a program to create a function show_employee() using the following conditions.\n",
    "\n",
    "It should accept the employee’s name and salary and display both.\n",
    "If the salary is missing in the function call then assign default value 8000 to salary\n",
    "\n",
    "Use a while loop to continue asking the user till the user decides to end.\n",
    "\n",
    "**Example**\n",
    "```\n",
    "Enter employee's name: John\n",
    "Enter salary: 10000\n",
    "\n",
    "Employee name is John and salary is 10000\n",
    "\n",
    "Do you want to continue(y/n): y\n",
    "\n",
    "Enter employee's name: Bob\n",
    "Enter salary: \n",
    "\n",
    "Employee's name is Bob and salary is 8000\n",
    "\n",
    "Do you want to continue(y/n): n\n",
    "Program ended\n",
    "```"
   ]
  },
  {
   "cell_type": "code",
   "execution_count": null,
   "metadata": {},
   "outputs": [],
   "source": [
    "### YOUR CODE GOES BELOW\n",
    "\n",
    "\n",
    "### END CODE"
   ]
  },
  {
   "cell_type": "markdown",
   "metadata": {},
   "source": [
    "## OPTIONAL EXERCISES\n",
    "\n",
    "Below is a set of optional exercises. These will not be graded but the solutions will be posted. I would strongly encourage you to try these out if you are done with the mandatory homework exercises to improve your understanding of python."
   ]
  },
  {
   "cell_type": "markdown",
   "metadata": {},
   "source": [
    "#### Exercise 11\n",
    "\n",
    "Write a Python function that accepts a string and calculate the number of upper case letters and lower case letters.\n",
    "\n",
    "Make sure you invoke this function in your main program and display the result"
   ]
  },
  {
   "cell_type": "code",
   "execution_count": 2,
   "metadata": {},
   "outputs": [],
   "source": [
    "### YOUR CODE GOES BELOW\n",
    "\n",
    "\n",
    "### END CODE"
   ]
  },
  {
   "cell_type": "markdown",
   "metadata": {},
   "source": [
    "#### Exercise 12\n",
    "\n",
    " Write a Python function to print the even numbers from a given list..\n",
    " \n",
    " Make sure you invoke this function in your main program and display the result"
   ]
  },
  {
   "cell_type": "code",
   "execution_count": 3,
   "metadata": {},
   "outputs": [],
   "source": [
    "### YOUR CODE GOES BELOW\n",
    "\n",
    "\n",
    "### END CODE"
   ]
  },
  {
   "cell_type": "markdown",
   "metadata": {},
   "source": [
    "#### Exercise 13\n",
    "\n",
    "Write a Python function that checks whether a passed string is palindrome or not.\n",
    "\n",
    "Make sure you invoke this function in your main program and display the result"
   ]
  },
  {
   "cell_type": "code",
   "execution_count": 4,
   "metadata": {},
   "outputs": [],
   "source": [
    "### YOUR CODE GOES BELOW\n",
    "\n",
    "\n",
    "### END CODE"
   ]
  },
  {
   "cell_type": "markdown",
   "metadata": {
    "collapsed": true
   },
   "source": [
    "#### Exercise 14\n",
    "\n",
    "Write a recursive Python program to compute the fibonnaci number for a given index.\n",
    "\n",
    "This is what a fibonacci series is https://www.mathsisfun.com/numbers/fibonacci-sequence.html\n",
    "\n",
    "Make sure you invoke this function in your main program and display the result"
   ]
  },
  {
   "cell_type": "code",
   "execution_count": 5,
   "metadata": {},
   "outputs": [],
   "source": [
    "### YOUR CODE GOES BELOW\n",
    "\n",
    "\n",
    "### END CODE"
   ]
  },
  {
   "cell_type": "markdown",
   "metadata": {},
   "source": [
    "#### Exercise 15\n",
    "\n",
    "Write a python program to autocorrect user input using the edit distance method. \n",
    "\n",
    "Make sure you invoke this function in your main program and display the result"
   ]
  },
  {
   "cell_type": "code",
   "execution_count": 6,
   "metadata": {},
   "outputs": [],
   "source": [
    "### YOUR CODE GOES BELOW\n",
    "\n",
    "\n",
    "### END CODE"
   ]
  },
  {
   "cell_type": "code",
   "execution_count": null,
   "metadata": {},
   "outputs": [],
   "source": []
  }
 ],
 "metadata": {
  "kernelspec": {
   "display_name": "Python 3",
   "language": "python",
   "name": "python3"
  },
  "language_info": {
   "codemirror_mode": {
    "name": "ipython",
    "version": 3
   },
   "file_extension": ".py",
   "mimetype": "text/x-python",
   "name": "python",
   "nbconvert_exporter": "python",
   "pygments_lexer": "ipython3",
   "version": "3.8.5"
  }
 },
 "nbformat": 4,
 "nbformat_minor": 2
}
